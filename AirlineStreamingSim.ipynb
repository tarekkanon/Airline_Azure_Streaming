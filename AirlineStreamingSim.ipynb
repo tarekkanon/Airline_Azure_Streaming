{
  "nbformat": 4,
  "nbformat_minor": 2,
  "metadata": {
    "kernelspec": {
      "name": "synapse_pyspark",
      "display_name": "Synapse PySpark"
    },
    "language_info": {
      "name": "python"
    },
    "description": null,
    "save_output": true,
    "synapse_widget": {
      "version": "0.1",
      "state": {}
    }
  },
  "cells": [
    {
      "cell_type": "code",
      "execution_count": 2,
      "outputs": [
        {
          "output_type": "display_data",
          "data": {
            "application/vnd.livy.statement-meta+json": {
              "spark_pool": "apachesparkpool",
              "session_id": "14",
              "statement_id": 2,
              "state": "finished",
              "livy_statement_state": "available",
              "queued_time": "2024-01-13T17:24:33.0069881Z",
              "session_start_time": "2024-01-13T17:24:33.0588476Z",
              "execution_start_time": "2024-01-13T17:25:27.8267097Z",
              "execution_finish_time": "2024-01-13T17:25:51.0976766Z",
              "spark_jobs": null,
              "parent_msg_id": "5539da1f-dd38-4e45-b1dc-8cd121ecccba"
            },
            "text/plain": "StatementMeta(apachesparkpool, 14, 2, Finished, Available)"
          },
          "metadata": {}
        },
        {
          "output_type": "stream",
          "name": "stdout",
          "text": [
            "Collecting azure-eventhub\n  Downloading azure_eventhub-5.11.5-py3-none-any.whl (315 kB)\n\u001b[2K     \u001b[90m━━━━━━━━━━━━━━━━━━━━━━━━━━━━━━━━━━━━━━━\u001b[0m \u001b[32m315.5/315.5 kB\u001b[0m \u001b[31m5.7 MB/s\u001b[0m eta \u001b[36m0:00:00\u001b[0ma \u001b[36m0:00:01\u001b[0m\n\u001b[?25hRequirement already satisfied: azure-core<2.0.0,>=1.14.0 in /home/trusted-service-user/cluster-env/env/lib/python3.10/site-packages (from azure-eventhub) (1.29.3)\nRequirement already satisfied: typing-extensions>=4.0.1 in /home/trusted-service-user/cluster-env/env/lib/python3.10/site-packages (from azure-eventhub) (4.5.0)\nRequirement already satisfied: requests>=2.18.4 in /home/trusted-service-user/cluster-env/env/lib/python3.10/site-packages (from azure-core<2.0.0,>=1.14.0->azure-eventhub) (2.31.0)\nRequirement already satisfied: six>=1.11.0 in /home/trusted-service-user/cluster-env/env/lib/python3.10/site-packages (from azure-core<2.0.0,>=1.14.0->azure-eventhub) (1.16.0)\nCollecting typing-extensions>=4.0.1 (from azure-eventhub)\n  Downloading typing_extensions-4.9.0-py3-none-any.whl (32 kB)\nRequirement already satisfied: charset-normalizer<4,>=2 in /home/trusted-service-user/cluster-env/env/lib/python3.10/site-packages (from requests>=2.18.4->azure-core<2.0.0,>=1.14.0->azure-eventhub) (3.2.0)\nRequirement already satisfied: idna<4,>=2.5 in /home/trusted-service-user/cluster-env/env/lib/python3.10/site-packages (from requests>=2.18.4->azure-core<2.0.0,>=1.14.0->azure-eventhub) (3.4)\nRequirement already satisfied: urllib3<3,>=1.21.1 in /home/trusted-service-user/cluster-env/env/lib/python3.10/site-packages (from requests>=2.18.4->azure-core<2.0.0,>=1.14.0->azure-eventhub) (1.26.16)\nRequirement already satisfied: certifi>=2017.4.17 in /home/trusted-service-user/cluster-env/env/lib/python3.10/site-packages (from requests>=2.18.4->azure-core<2.0.0,>=1.14.0->azure-eventhub) (2023.7.22)\nInstalling collected packages: typing-extensions, azure-eventhub\n  Attempting uninstall: typing-extensions\n    Found existing installation: typing_extensions 4.5.0\n    Uninstalling typing_extensions-4.5.0:\n      Successfully uninstalled typing_extensions-4.5.0\n\u001b[31mERROR: pip's dependency resolver does not currently take into account all the packages that are installed. This behaviour is the source of the following dependency conflicts.\ndash 2.13.0 requires Flask<2.3.0,>=1.0.4, but you have flask 2.3.3 which is incompatible.\ndash 2.13.0 requires Werkzeug<2.3.0, but you have werkzeug 2.3.7 which is incompatible.\ntensorflow 2.12.1 requires typing-extensions<4.6.0,>=3.6.6, but you have typing-extensions 4.9.0 which is incompatible.\u001b[0m\u001b[31m\n\u001b[0mSuccessfully installed azure-eventhub-5.11.5 typing-extensions-4.7.1\n"
          ]
        }
      ],
      "metadata": {
        "jupyter": {
          "source_hidden": false,
          "outputs_hidden": false
        },
        "nteract": {
          "transient": {
            "deleting": false
          }
        }
      },
      "source": [
        "!pip install azure-eventhub"
      ]
    },
    {
      "cell_type": "code",
      "execution_count": 7,
      "outputs": [
        {
          "output_type": "display_data",
          "data": {
            "application/vnd.livy.statement-meta+json": {
              "spark_pool": "apachesparkpool",
              "session_id": "14",
              "statement_id": 7,
              "state": "finished",
              "livy_statement_state": "available",
              "queued_time": "2024-01-13T17:31:56.9203299Z",
              "session_start_time": null,
              "execution_start_time": "2024-01-13T17:31:57.1153932Z",
              "execution_finish_time": "2024-01-13T17:31:57.296025Z",
              "spark_jobs": null,
              "parent_msg_id": "6481461e-21a4-431a-9b40-f1cf25892cd4"
            },
            "text/plain": "StatementMeta(apachesparkpool, 14, 7, Finished, Available)"
          },
          "metadata": {}
        }
      ],
      "metadata": {
        "jupyter": {
          "source_hidden": false,
          "outputs_hidden": false
        },
        "nteract": {
          "transient": {
            "deleting": false
          }
        }
      },
      "source": [
        "import requests\r\n",
        "import asyncio\r\n",
        "import time\r\n",
        "import json\r\n",
        "\r\n",
        "from azure.eventhub import EventData\r\n",
        "from azure.eventhub.aio import EventHubProducerClient\r\n",
        "from datetime import datetime\r\n",
        "\r\n",
        "url = \"https://flight-radar1.p.rapidapi.com/flights/\"\r\n",
        "\r\n",
        "def call_airline_api():\r\n",
        "    function = \"search\"\r\n",
        "\r\n",
        "    querystring = {\"query\":\"F93055\",\"limit\":\"25\"}\r\n",
        "\r\n",
        "    headers = {\r\n",
        "        \"X-RapidAPI-Key\": \"#########################################\",\r\n",
        "        \"X-RapidAPI-Host\": \"flight-radar1.p.rapidapi.com\"\r\n",
        "    }\r\n",
        "\r\n",
        "    response = requests.get(url + function, headers=headers, params=querystring)\r\n",
        "\r\n",
        "    res = response.json()\r\n",
        "\r\n",
        "    flight_obj = {\r\n",
        "        \"id\" : res[\"results\"][0][\"id\"],\r\n",
        "        \"label\" : res[\"results\"][0][\"label\"],\r\n",
        "        \"type\" : res[\"results\"][0][\"type\"],\r\n",
        "        \"callsign\" : res[\"results\"][0][\"detail\"][\"callsign\"],\r\n",
        "        \"flight_num\" : res[\"results\"][0][\"detail\"][\"flight\"]\r\n",
        "    }\r\n",
        "\r\n",
        "    # get flight trail data to get latest location for streaming\r\n",
        "\r\n",
        "    function = \"detail\"\r\n",
        "\r\n",
        "    querystring = {\"flight\": flight_obj[\"id\"]}\r\n",
        "\r\n",
        "    response = requests.get(url + function, headers=headers, params=querystring)\r\n",
        "\r\n",
        "    flight_obj[\"latest_trail\"] = response.json()[\"trail\"][0]\r\n",
        "    flight_obj[\"latest_trail\"][\"datetime\"] = datetime.fromtimestamp(flight_obj[\"latest_trail\"][\"ts\"])\r\n",
        "    return json.dumps(flight_obj, indent=4, default=str)"
      ]
    },
    {
      "cell_type": "code",
      "execution_count": 4,
      "outputs": [
        {
          "output_type": "display_data",
          "data": {
            "application/vnd.livy.statement-meta+json": {
              "spark_pool": "apachesparkpool",
              "session_id": "14",
              "statement_id": 4,
              "state": "finished",
              "livy_statement_state": "available",
              "queued_time": "2024-01-13T17:26:04.2062402Z",
              "session_start_time": null,
              "execution_start_time": "2024-01-13T17:26:04.5863896Z",
              "execution_finish_time": "2024-01-13T17:26:04.7550538Z",
              "spark_jobs": null,
              "parent_msg_id": "d23613b0-a574-4f07-84a8-506bbf1a02fe"
            },
            "text/plain": "StatementMeta(apachesparkpool, 14, 4, Finished, Available)"
          },
          "metadata": {}
        }
      ],
      "metadata": {
        "jupyter": {
          "source_hidden": false,
          "outputs_hidden": false
        },
        "nteract": {
          "transient": {
            "deleting": false
          }
        }
      },
      "source": [
        "EVENT_HUB_CONNECTION_STR = \"Endpoint=sb://airlinestreamhub.servicebus.windows.net/;SharedAccessKeyName=program_policy;SharedAccessKey=######################s##########AEhO+/33g=;EntityPath=airelineevent\"\r\n",
        "EVENT_HUB_NAME = \"airelineevent\""
      ]
    },
    {
      "cell_type": "code",
      "execution_count": 5,
      "outputs": [
        {
          "output_type": "display_data",
          "data": {
            "application/vnd.livy.statement-meta+json": {
              "spark_pool": "apachesparkpool",
              "session_id": "14",
              "statement_id": 5,
              "state": "finished",
              "livy_statement_state": "available",
              "queued_time": "2024-01-13T17:26:06.9959342Z",
              "session_start_time": null,
              "execution_start_time": "2024-01-13T17:26:07.1388104Z",
              "execution_finish_time": "2024-01-13T17:26:07.3184174Z",
              "spark_jobs": null,
              "parent_msg_id": "137c508d-9cbe-4d0c-ba08-4c04ac6f6617"
            },
            "text/plain": "StatementMeta(apachesparkpool, 14, 5, Finished, Available)"
          },
          "metadata": {}
        }
      ],
      "metadata": {
        "jupyter": {
          "source_hidden": false,
          "outputs_hidden": false
        },
        "nteract": {
          "transient": {
            "deleting": false
          }
        }
      },
      "source": [
        "async def run(flight_obj):\r\n",
        "    # Create a producer client to send messages to the event hub.\r\n",
        "    # Specify a connection string to your event hubs namespace and\r\n",
        "    # the event hub name.\r\n",
        "    producer = EventHubProducerClient.from_connection_string(\r\n",
        "        conn_str=EVENT_HUB_CONNECTION_STR, eventhub_name=EVENT_HUB_NAME\r\n",
        "    )\r\n",
        "    async with producer:\r\n",
        "        # Create a batch.\r\n",
        "        event_data_batch = await producer.create_batch()\r\n",
        "\r\n",
        "        # Add events to the batch.\r\n",
        "        event_data_batch.add(EventData(flight_obj))\r\n",
        "        print(\"sending...\")\r\n",
        "        # Send the batch of events to the event hub.\r\n",
        "        await producer.send_batch(event_data_batch)\r\n",
        "        print(\"sent!\")"
      ]
    },
    {
      "cell_type": "code",
      "execution_count": 9,
      "outputs": [
        {
          "output_type": "display_data",
          "data": {
            "application/vnd.livy.statement-meta+json": {
              "spark_pool": "apachesparkpool",
              "session_id": "14",
              "statement_id": 9,
              "state": "finished",
              "livy_statement_state": "cancelled",
              "queued_time": "2024-01-13T17:32:47.4251072Z",
              "session_start_time": null,
              "execution_start_time": "2024-01-13T17:32:47.5655107Z",
              "execution_finish_time": "2024-01-13T17:35:00.6655684Z",
              "spark_jobs": null,
              "parent_msg_id": "481b3887-230d-47a5-83c7-9aacf4d5c8a7"
            },
            "text/plain": "StatementMeta(apachesparkpool, 14, 9, Finished, Cancelled)"
          },
          "metadata": {}
        },
        {
          "output_type": "stream",
          "name": "stdout",
          "text": [
            "sending...\nsent!\nsending...\nsent!\n"
          ]
        }
      ],
      "metadata": {
        "jupyter": {
          "source_hidden": false,
          "outputs_hidden": false
        },
        "nteract": {
          "transient": {
            "deleting": false
          }
        }
      },
      "source": [
        "for x in range(5):\r\n",
        "    time.sleep(10) # 2 min\r\n",
        "    plane_trail = call_airline_api()\r\n",
        "    await run(plane_trail)"
      ]
    }
  ]
}
